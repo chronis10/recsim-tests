{
 "cells": [
  {
   "cell_type": "code",
   "execution_count": 1,
   "metadata": {},
   "outputs": [
    {
     "name": "stderr",
     "output_type": "stream",
     "text": [
      "2024-04-19 17:27:34.545782: I tensorflow/core/platform/cpu_feature_guard.cc:182] This TensorFlow binary is optimized to use available CPU instructions in performance-critical operations.\n",
      "To enable the following instructions: AVX2 FMA, in other operations, rebuild TensorFlow with the appropriate compiler flags.\n",
      "2024-04-19 17:27:34.979508: W tensorflow/compiler/tf2tensorrt/utils/py_utils.cc:38] TF-TRT Warning: Could not find TensorRT\n"
     ]
    }
   ],
   "source": [
    "# from recsim import document\n",
    "# from recsim import user\n",
    "# from recsim.choice_model import MultinomialLogitChoiceModel\n",
    "# \n",
    "# \n",
    "\n",
    "# import numpy as np\n",
    "# from gym import spaces\n",
    "# import matplotlib.pyplot as plt\n",
    "# from scipy import stats\n",
    "\n",
    "from recsim.simulator import environment\n",
    "from recsim.simulator import recsim_gym\n",
    "\n",
    "from movies_lib.samplers import MovieDocumentSampler\n",
    "from movies_lib.samplers import MovieStaticUserSampler\n",
    "from movies_lib.model import MovieUserModel\n",
    "import matplotlib.pyplot as plt\n",
    "import numpy as np\n",
    "import tensorflow as tf\n",
    "from recsim.environments import interest_evolution\n",
    "from recsim.agents import full_slate_q_agent\n",
    "from recsim.simulator import runner_lib\n"
   ]
  },
  {
   "cell_type": "code",
   "execution_count": 2,
   "metadata": {},
   "outputs": [],
   "source": [
    "genres = ['Action', 'Adventure', 'Comedy', 'Drama', 'Fantasy', 'Horror', 'Mystery', 'Romance', 'Sci-Fi', 'Thriller']"
   ]
  },
  {
   "cell_type": "markdown",
   "metadata": {},
   "source": [
    "#### Movies Sampler"
   ]
  },
  {
   "cell_type": "code",
   "execution_count": 3,
   "metadata": {},
   "outputs": [
    {
     "name": "stdout",
     "output_type": "stream",
     "text": [
      "Movie 0 with popularity 0.2618599474041827 and genre 1.\n",
      "Movie 1 with popularity 1.5531511873632882 and genre 2.\n",
      "Movie 2 with popularity 3.474132494033721 and genre 9.\n",
      "Movie 3 with popularity 1.9104830451668364 and genre 8.\n",
      "Movie 4 with popularity 1.9335715718820412 and genre 6.\n"
     ]
    }
   ],
   "source": [
    "# Create a sampler instance and sample documents\n",
    "sampler = MovieDocumentSampler()\n",
    "for i in range(5):\n",
    "    print(sampler.sample_document())"
   ]
  },
  {
   "cell_type": "markdown",
   "metadata": {},
   "source": [
    "#### Users Sampler"
   ]
  },
  {
   "cell_type": "code",
   "execution_count": 4,
   "metadata": {},
   "outputs": [
    {
     "data": {
      "image/png": "[encoded data removed]",
      "text/plain": [
       "<Figure size 640x480 with 1 Axes>"
      ]
     },
     "metadata": {},
     "output_type": "display_data"
    }
   ],
   "source": [
    "# Instantiate the MovieStaticUserSampler\n",
    "sampler = MovieStaticUserSampler()\n",
    "starting_genre_exposure = []\n",
    "\n",
    "# Sample 1000 users and collect their initial genre exposures\n",
    "for i in range(100):\n",
    "    sampled_user = sampler.sample_user()\n",
    "    starting_genre_exposure.append(sampled_user.net_genre_exposure)\n",
    "\n",
    "# Plotting the histogram of starting genre exposures\n",
    "_ = plt.hist(starting_genre_exposure, bins=30, color='blue', alpha=0.7)\n",
    "plt.title(\"Histogram of Initial Genre Exposures for Sampled Users\")\n",
    "plt.xlabel(\"Initial Genre Exposure\")\n",
    "plt.ylabel(\"Frequency\")\n",
    "plt.show()"
   ]
  },
  {
   "cell_type": "markdown",
   "metadata": {},
   "source": [
    "#### Recommendations Environment"
   ]
  },
  {
   "cell_type": "code",
   "execution_count": 5,
   "metadata": {},
   "outputs": [],
   "source": [
    "slate_size = 3 # Number of items to recommend\n",
    "num_candidates = 10 \n",
    "\n",
    "# Initialize the environment for the movie recommendation system\n",
    "movie_env = environment.Environment(\n",
    "    MovieUserModel(slate_size),  # Use the adapted user model for movies\n",
    "    MovieDocumentSampler(),     # Use the adapted document sampler for movies\n",
    "    num_candidates,\n",
    "    slate_size,\n",
    "    resample_documents=True  # Enable resampling of documents for each step\n",
    ")"
   ]
  },
  {
   "cell_type": "markdown",
   "metadata": {},
   "source": [
    "Reward function"
   ]
  },
  {
   "cell_type": "code",
   "execution_count": 6,
   "metadata": {},
   "outputs": [],
   "source": [
    "def movie_watched_rating_reward(responses):\n",
    "    reward = 0.0\n",
    "    for response in responses:\n",
    "        if response.watched:\n",
    "            reward += response.rating\n",
    "    return reward"
   ]
  },
  {
   "cell_type": "markdown",
   "metadata": {},
   "source": [
    "Final environment"
   ]
  },
  {
   "cell_type": "code",
   "execution_count": 7,
   "metadata": {},
   "outputs": [],
   "source": [
    "movie_gym_env = recsim_gym.RecSimGymEnv(movie_env, movie_watched_rating_reward)"
   ]
  },
  {
   "cell_type": "code",
   "execution_count": 8,
   "metadata": {},
   "outputs": [
    {
     "name": "stdout",
     "output_type": "stream",
     "text": [
      "Observation 0: Initial environment state\n",
      "Available documents:\n",
      "doc_id 10, genre 5.0, popularity 0.9084765427223868\n",
      "doc_id 11, genre 6.0, popularity 4.01531368911336\n",
      "doc_id 12, genre 2.0, popularity 1.6043796764005318\n",
      "doc_id 13, genre 7.0, popularity 4.639280537038523\n",
      "doc_id 14, genre 6.0, popularity 3.5140367802941173\n",
      "doc_id 15, genre 0.0, popularity 1.8244566944877922\n",
      "doc_id 16, genre 5.0, popularity 0.9052548040608965\n",
      "doc_id 17, genre 2.0, popularity 0.26855967588758856\n",
      "doc_id 18, genre 4.0, popularity 1.3015580148944856\n",
      "doc_id 19, genre 4.0, popularity 2.678914979497672\n",
      "Noisy user state observation:\n",
      "[0.64417171]\n",
      "Making recommendations: Documents at indices 0, 1, 2\n",
      "Observation 1: State after user interaction\n",
      "Available documents:\n",
      "doc_id 10, genre 5.0, popularity 0.9084765427223868\n",
      "doc_id 11, genre 6.0, popularity 4.01531368911336\n",
      "doc_id 12, genre 2.0, popularity 1.6043796764005318\n",
      "doc_id 13, genre 7.0, popularity 4.639280537038523\n",
      "doc_id 14, genre 6.0, popularity 3.5140367802941173\n",
      "doc_id 15, genre 0.0, popularity 1.8244566944877922\n",
      "doc_id 16, genre 5.0, popularity 0.9052548040608965\n",
      "doc_id 17, genre 2.0, popularity 0.26855967588758856\n",
      "doc_id 18, genre 4.0, popularity 1.3015580148944856\n",
      "doc_id 19, genre 4.0, popularity 2.678914979497672\n",
      "User responses to documents in the slate:\n",
      "{'watched': 0, 'rating': array([0.])}\n",
      "{'watched': 1, 'rating': array([5.])}\n",
      "{'watched': 0, 'rating': array([0.])}\n",
      "Noisy user state observation after interaction:\n",
      "[0.18078036]\n",
      "Received reward: 5.0\n",
      "Simulation done: False\n"
     ]
    }
   ],
   "source": [
    "# Step 1: Reset the environment\n",
    "# This initializes everything and returns the initial state of the environment.\n",
    "# 'observation_0' contains the initial set of documents (movies) and the initial user state.\n",
    "observation_0 = movie_gym_env.reset()\n",
    "print('Observation 0: Initial environment state')\n",
    "print('Available documents:')\n",
    "\n",
    "# Extracting document details from the initial observation.\n",
    "# This loop goes through each document provided in the initial observation,\n",
    "# assuming that each document has properties such as 'id', 'genre', and 'popularity'.\n",
    "doc_strings = [f\"doc_id {doc_id}, genre {doc_details[1]}, popularity {doc_details[0]}\" \n",
    "               for doc_id, doc_details in observation_0['doc'].items()]\n",
    "print('\\n'.join(doc_strings))  # Displaying document details\n",
    "\n",
    "# Displaying the initial noisy user state observation\n",
    "print('Noisy user state observation:')\n",
    "print(observation_0['user'])\n",
    "\n",
    "# Step 2: Make recommendations\n",
    "# Here, we select the first three documents to recommend to the user.\n",
    "# This is a simplistic approach for demonstration; in a real scenario, you might use\n",
    "# a more sophisticated method to choose which documents to recommend.\n",
    "recommendation_slate_0 = [0, 1, 2]\n",
    "print('Making recommendations: Documents at indices 0, 1, 2')\n",
    "\n",
    "# Step 3: Simulate the user's response to the recommended slate\n",
    "# 'observation_1' is the new state of the environment after the user has interacted with the recommended documents.\n",
    "# 'reward' captures the total reward from the user interactions (e.g., ratings),\n",
    "# 'done' is a boolean indicating whether the simulation is over (e.g., user session ended),\n",
    "# '_' can capture additional info, if any (commonly used to ignore additional outputs).\n",
    "observation_1, reward, done, _ = movie_gym_env.step(recommendation_slate_0)\n",
    "\n",
    "print('Observation 1: State after user interaction')\n",
    "print('Available documents:')\n",
    "\n",
    "# Extract and display document details from the new observation after interaction.\n",
    "doc_strings = [f\"doc_id {doc_id}, genre {doc_details[1]}, popularity {doc_details[0]}\" \n",
    "               for doc_id, doc_details in observation_0['doc'].items()]\n",
    "print('\\n'.join(doc_strings))\n",
    "\n",
    "# Display user responses to the recommended documents.\n",
    "# We assume the 'response' objects can be meaningfully converted to string,\n",
    "# which should provide details such as whether the movie was watched and what rating was given.\n",
    "print('User responses to documents in the slate:')\n",
    "rsp_strings = [str(response) for response in observation_1['response']]\n",
    "print('\\n'.join(rsp_strings))\n",
    "\n",
    "# Display the updated noisy user state observation after interaction.\n",
    "print('Noisy user state observation after interaction:')\n",
    "print(observation_1['user'])\n",
    "\n",
    "# Print reward received from the interactions and whether the simulation is done.\n",
    "print(f'Received reward: {reward}')\n",
    "print(f'Simulation done: {done}')\n"
   ]
  },
  {
   "cell_type": "markdown",
   "metadata": {},
   "source": [
    "### Gym test"
   ]
  },
  {
   "cell_type": "code",
   "execution_count": 9,
   "metadata": {},
   "outputs": [],
   "source": [
    "\n",
    "def create_agent(sess, environment, eval_mode, summary_writer=None):\n",
    "  kwargs = {\n",
    "      'observation_space': environment.observation_space,\n",
    "      'action_space': environment.action_space,\n",
    "      'summary_writer': summary_writer,\n",
    "      'eval_mode': eval_mode,\n",
    "  }\n",
    "  return full_slate_q_agent.FullSlateQAgent(sess, **kwargs)"
   ]
  },
  {
   "cell_type": "code",
   "execution_count": 10,
   "metadata": {},
   "outputs": [],
   "source": [
    "slate_size = 5\n",
    "num_candidates = 20\n",
    "time_budget = 10 # Time budget for the user model, interactions per episode\n",
    "# Initialize the environment for the movie recommendation system\n",
    "movie_env = environment.Environment(\n",
    "    MovieUserModel(slate_size,time_budget),  # Use the adapted user model for movies\n",
    "    MovieDocumentSampler(),     # Use the adapted document sampler for movies\n",
    "    num_candidates,\n",
    "    slate_size,\n",
    "    resample_documents=True  # Enable resampling of documents for each step\n",
    ")"
   ]
  },
  {
   "cell_type": "code",
   "execution_count": 11,
   "metadata": {},
   "outputs": [],
   "source": [
    "def movie_watched_rating_reward(responses):\n",
    "    reward = 0.0\n",
    "    for response in responses:\n",
    "        if response.watched:\n",
    "            reward += response.rating\n",
    "    return reward"
   ]
  },
  {
   "cell_type": "code",
   "execution_count": 12,
   "metadata": {},
   "outputs": [],
   "source": [
    "movie_gym_env = recsim_gym.RecSimGymEnv(movie_env, movie_watched_rating_reward)"
   ]
  }
 ],
 "metadata": {
  "kernelspec": {
   "display_name": "recsim-env",
   "language": "python",
   "name": "python3"
  },
  "language_info": {
   "codemirror_mode": {
    "name": "ipython",
    "version": 3
   },
   "file_extension": ".py",
   "mimetype": "text/x-python",
   "name": "python",
   "nbconvert_exporter": "python",
   "pygments_lexer": "ipython3",
   "version": "3.8.10"
  }
 },
 "nbformat": 4,
 "nbformat_minor": 2
}
