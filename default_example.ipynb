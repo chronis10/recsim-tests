{
 "cells": [
  {
   "cell_type": "code",
   "execution_count": 14,
   "metadata": {},
   "outputs": [],
   "source": [
    "from recsim import document\n",
    "from recsim import user\n",
    "from recsim.choice_model import MultinomialLogitChoiceModel\n",
    "from recsim.simulator import environment\n",
    "from recsim.simulator import recsim_gym\n",
    "\n",
    "import numpy as np\n",
    "from gym import spaces\n",
    "import matplotlib.pyplot as plt\n",
    "from scipy import stats"
   ]
  },
  {
   "cell_type": "markdown",
   "metadata": {},
   "source": [
    "### Documents"
   ]
  },
  {
   "cell_type": "code",
   "execution_count": 15,
   "metadata": {},
   "outputs": [],
   "source": [
    "class LTSDocument(document.AbstractDocument):\n",
    "  def __init__(self, doc_id, kaleness):\n",
    "    self.kaleness = kaleness\n",
    "    # doc_id is an integer representing the unique ID of this document\n",
    "    super(LTSDocument, self).__init__(doc_id)\n",
    "\n",
    "  def create_observation(self):\n",
    "    return np.array([self.kaleness])\n",
    "\n",
    "  @staticmethod\n",
    "  def observation_space():\n",
    "    return spaces.Box(shape=(1,), dtype=np.float32, low=0.0, high=1.0)\n",
    "  \n",
    "  def __str__(self):\n",
    "    return \"Document {} with kaleness {}.\".format(self._doc_id, self.kaleness)"
   ]
  },
  {
   "cell_type": "code",
   "execution_count": 16,
   "metadata": {},
   "outputs": [],
   "source": [
    "class LTSDocumentSampler(document.AbstractDocumentSampler):\n",
    "  def __init__(self, doc_ctor=LTSDocument, **kwargs):\n",
    "    super(LTSDocumentSampler, self).__init__(doc_ctor, **kwargs)\n",
    "    self._doc_count = 0\n",
    "\n",
    "  def sample_document(self):\n",
    "    doc_features = {}\n",
    "    doc_features['doc_id'] = self._doc_count\n",
    "    doc_features['kaleness'] = self._rng.random_sample()\n",
    "    self._doc_count += 1\n",
    "    return self._doc_ctor(**doc_features)"
   ]
  },
  {
   "cell_type": "code",
   "execution_count": 17,
   "metadata": {},
   "outputs": [
    {
     "name": "stdout",
     "output_type": "stream",
     "text": [
      "Document 0 with kaleness 0.5488135039273248.\n",
      "Document 1 with kaleness 0.7151893663724195.\n",
      "Document 2 with kaleness 0.6027633760716439.\n",
      "Document 3 with kaleness 0.5448831829968969.\n",
      "Document 4 with kaleness 0.4236547993389047.\n",
      "Documents have observation space: Box(0.0, 1.0, (1,), float32) \n",
      "An example realization is:  [0.64589411]\n"
     ]
    }
   ],
   "source": [
    "sampler = LTSDocumentSampler()\n",
    "for i in range(5): print(sampler.sample_document())\n",
    "d = sampler.sample_document()\n",
    "print(\"Documents have observation space:\", d.observation_space(), \"\\n\"\n",
    "      \"An example realization is: \", d.create_observation())\n",
    "     "
   ]
  },
  {
   "cell_type": "markdown",
   "metadata": {},
   "source": [
    "### Users"
   ]
  },
  {
   "cell_type": "code",
   "execution_count": 21,
   "metadata": {},
   "outputs": [],
   "source": [
    "class LTSUserState(user.AbstractUserState):\n",
    "  def __init__(self, memory_discount, sensitivity, innovation_stddev,\n",
    "              choc_mean, choc_stddev, kale_mean, kale_stddev,\n",
    "              net_kaleness_exposure, time_budget, observation_noise_stddev=0.1\n",
    "            ):\n",
    "    ## Transition model parameters\n",
    "    ##############################\n",
    "    self.memory_discount = memory_discount\n",
    "    self.sensitivity = sensitivity\n",
    "    self.innovation_stddev = innovation_stddev\n",
    "\n",
    "    ## Engagement parameters\n",
    "    self.choc_mean = choc_mean\n",
    "    self.choc_stddev = choc_stddev\n",
    "    self.kale_mean = kale_mean\n",
    "    self.kale_stddev = kale_stddev\n",
    "\n",
    "    ## State variables\n",
    "    ##############################\n",
    "    self.net_kaleness_exposure = net_kaleness_exposure\n",
    "    self.satisfaction = 1 / (1 + np.exp(-sensitivity * net_kaleness_exposure))\n",
    "    self.time_budget = time_budget\n",
    "\n",
    "    # Noise\n",
    "    self._observation_noise = observation_noise_stddev\n",
    "\n",
    "  def create_observation(self):\n",
    "    \"\"\"User's state is not observable.\"\"\"\n",
    "    clip_low, clip_high = (-1.0 / (1.0 * self._observation_noise),\n",
    "                            1.0 / (1.0 * self._observation_noise))\n",
    "    noise = stats.truncnorm(\n",
    "        clip_low, clip_high, loc=0.0, scale=self._observation_noise).rvs()\n",
    "    noisy_sat = self.satisfaction + noise\n",
    "    return np.array([noisy_sat,])\n",
    "\n",
    "  @staticmethod\n",
    "  def observation_space():\n",
    "   return spaces.Box(shape=(1,), dtype=np.float32, low=-2.0, high=2.0)\n",
    "\n",
    "  # scoring function for use in the choice model -- the user is more likely to\n",
    "  # click on more chocolatey content.\n",
    "  def score_document(self, doc_obs):\n",
    "    return 1 - doc_obs"
   ]
  },
  {
   "cell_type": "code",
   "execution_count": 22,
   "metadata": {},
   "outputs": [],
   "source": [
    "class LTSStaticUserSampler(user.AbstractUserSampler):\n",
    "  _state_parameters = None\n",
    "\n",
    "  def __init__(self,\n",
    "               user_ctor=LTSUserState,\n",
    "               memory_discount=0.9,\n",
    "               sensitivity=0.01,\n",
    "               innovation_stddev=0.05,\n",
    "               choc_mean=5.0,\n",
    "               choc_stddev=1.0,\n",
    "               kale_mean=4.0,\n",
    "               kale_stddev=1.0,\n",
    "               time_budget=60,\n",
    "               **kwargs):\n",
    "    self._state_parameters = {'memory_discount': memory_discount,\n",
    "                              'sensitivity': sensitivity,\n",
    "                              'innovation_stddev': innovation_stddev,\n",
    "                              'choc_mean': choc_mean,\n",
    "                              'choc_stddev': choc_stddev,\n",
    "                              'kale_mean': kale_mean,\n",
    "                              'kale_stddev': kale_stddev,\n",
    "                              'time_budget': time_budget\n",
    "                             }\n",
    "    super(LTSStaticUserSampler, self).__init__(user_ctor, **kwargs)\n",
    "\n",
    "  def sample_user(self):\n",
    "    starting_nke = ((self._rng.random_sample() - .5) *\n",
    "                    (1 / (1.0 - self._state_parameters['memory_discount'])))\n",
    "    self._state_parameters['net_kaleness_exposure'] = starting_nke\n",
    "    return self._user_ctor(**self._state_parameters)"
   ]
  },
  {
   "cell_type": "code",
   "execution_count": 23,
   "metadata": {},
   "outputs": [
    {
     "data": {
      "image/png": "[encoded data removed]",
      "text/plain": [
       "<Figure size 640x480 with 1 Axes>"
      ]
     },
     "metadata": {},
     "output_type": "display_data"
    }
   ],
   "source": [
    "sampler = LTSStaticUserSampler()\n",
    "starting_nke = []\n",
    "for i in range(1000):\n",
    "  sampled_user = sampler.sample_user()\n",
    "  starting_nke.append(sampled_user.net_kaleness_exposure)\n",
    "_ = plt.hist(starting_nke)     "
   ]
  },
  {
   "cell_type": "markdown",
   "metadata": {},
   "source": [
    "### Response"
   ]
  },
  {
   "cell_type": "code",
   "execution_count": 24,
   "metadata": {},
   "outputs": [],
   "source": [
    "class LTSResponse(user.AbstractResponse):\n",
    "  # The maximum degree of engagement.\n",
    "  MAX_ENGAGEMENT_MAGNITUDE = 100.0\n",
    "\n",
    "  def __init__(self, clicked=False, engagement=0.0):\n",
    "    self.clicked = clicked\n",
    "    self.engagement = engagement\n",
    "\n",
    "  def create_observation(self):\n",
    "    return {'click': int(self.clicked), 'engagement': np.array(self.engagement)}\n",
    "\n",
    "  @classmethod\n",
    "  def response_space(cls):\n",
    "    # `engagement` feature range is [0, MAX_ENGAGEMENT_MAGNITUDE]\n",
    "    return spaces.Dict({\n",
    "        'click':\n",
    "            spaces.Discrete(2),\n",
    "        'engagement':\n",
    "            spaces.Box(\n",
    "                low=0.0,\n",
    "                high=cls.MAX_ENGAGEMENT_MAGNITUDE,\n",
    "                shape=tuple(),\n",
    "                dtype=np.float32)\n",
    "    })\n",
    "     "
   ]
  },
  {
   "cell_type": "markdown",
   "metadata": {},
   "source": [
    "### User Model"
   ]
  },
  {
   "cell_type": "code",
   "execution_count": 37,
   "metadata": {},
   "outputs": [],
   "source": [
    "class LTSUserModel(user.AbstractUserModel):\n",
    "    def __init__(self,slate_size,seed=0):\n",
    "        super(LTSUserModel,self).__init__(LTSResponse,LTSStaticUserSampler(LTSUserState,seed=seed), slate_size)\n",
    "        self.choice_model = MultinomialLogitChoiceModel({})\n",
    "\n",
    "    def simulate_response(self, slate_documents):\n",
    "        # List of empty responses\n",
    "        responses = [self._response_model_ctor() for _ in slate_documents]\n",
    "        # Get click from of choice model.\n",
    "        self.choice_model.score_documents(\n",
    "            self._user_state, [doc.create_observation() for doc in slate_documents])\n",
    "        scores = self.choice_model.scores\n",
    "        selected_index = self.choice_model.choose_item()\n",
    "        # Populate clicked item.\n",
    "        self._generate_response(slate_documents[selected_index],\n",
    "                                responses[selected_index])\n",
    "        return responses\n",
    "\n",
    "    def _generate_response(self, doc, response):\n",
    "        response.clicked = True\n",
    "        # linear interpolation between choc and kale.\n",
    "        engagement_loc = (doc.kaleness * self._user_state.choc_mean\n",
    "                            + (1 - doc.kaleness) * self._user_state.kale_mean)\n",
    "        engagement_loc *= self._user_state.satisfaction\n",
    "        engagement_scale = (doc.kaleness * self._user_state.choc_stddev\n",
    "                            + ((1 - doc.kaleness)\n",
    "                                * self._user_state.kale_stddev))\n",
    "        log_engagement = np.random.normal(loc=engagement_loc,\n",
    "                                            scale=engagement_scale)\n",
    "        response.engagement = np.exp(log_engagement)\n",
    "\n",
    "    def update_state(self, slate_documents, responses):\n",
    "        for doc, response in zip(slate_documents, responses):\n",
    "            if response.clicked:\n",
    "                innovation = np.random.normal(scale=self._user_state.innovation_stddev)\n",
    "                net_kaleness_exposure = (self._user_state.memory_discount\n",
    "                                            * self._user_state.net_kaleness_exposure\n",
    "                                            - 2.0 * (doc.kaleness - 0.5)\n",
    "                                            + innovation\n",
    "                                        )\n",
    "                self._user_state.net_kaleness_exposure = net_kaleness_exposure\n",
    "                satisfaction = 1 / (1.0 + np.exp(-self._user_state.sensitivity\n",
    "                                                    * net_kaleness_exposure)\n",
    "                                    )\n",
    "                self._user_state.satisfaction = satisfaction\n",
    "                self._user_state.time_budget -= 1\n",
    "                return\n",
    "    \n",
    "    def is_terminal(self):\n",
    "        \"\"\"Returns a boolean indicating if the session is over.\"\"\"\n",
    "        return self._user_state.time_budget <= 0\n",
    "       "
   ]
  },
  {
   "cell_type": "code",
   "execution_count": 38,
   "metadata": {},
   "outputs": [],
   "source": [
    "slate_size = 3\n",
    "num_candidates = 10\n",
    "ltsenv = environment.Environment(\n",
    "        LTSUserModel(slate_size),\n",
    "        LTSDocumentSampler(),\n",
    "        num_candidates,\n",
    "        slate_size,\n",
    "        resample_documents=True)"
   ]
  },
  {
   "cell_type": "markdown",
   "metadata": {},
   "source": [
    "### Environment"
   ]
  },
  {
   "cell_type": "code",
   "execution_count": 39,
   "metadata": {},
   "outputs": [],
   "source": [
    "#Reward Function like\n",
    "def clicked_engagement_reward(responses):\n",
    "  reward = 0.0\n",
    "  for response in responses:\n",
    "    if response.clicked:\n",
    "      reward += response.engagement\n",
    "  return reward"
   ]
  },
  {
   "cell_type": "code",
   "execution_count": 40,
   "metadata": {},
   "outputs": [],
   "source": [
    "lts_gym_env = recsim_gym.RecSimGymEnv(ltsenv, clicked_engagement_reward)"
   ]
  },
  {
   "cell_type": "code",
   "execution_count": 41,
   "metadata": {},
   "outputs": [
    {
     "name": "stdout",
     "output_type": "stream",
     "text": [
      "Observation 0\n",
      "Available documents\n",
      "doc_id 10 kaleness [0.79172504]\n",
      "doc_id 11 kaleness [0.52889492]\n",
      "doc_id 12 kaleness [0.56804456]\n",
      "doc_id 13 kaleness [0.92559664]\n",
      "doc_id 14 kaleness [0.07103606]\n",
      "doc_id 15 kaleness [0.0871293]\n",
      "doc_id 16 kaleness [0.0202184]\n",
      "doc_id 17 kaleness [0.83261985]\n",
      "doc_id 18 kaleness [0.77815675]\n",
      "doc_id 19 kaleness [0.87001215]\n",
      "Noisy user state observation\n",
      "[0.55226738]\n",
      "Observation 1\n",
      "Available documents\n",
      "doc_id 20 kaleness [0.97861834]\n",
      "doc_id 21 kaleness [0.79915856]\n",
      "doc_id 22 kaleness [0.46147936]\n",
      "doc_id 23 kaleness [0.78052918]\n",
      "doc_id 24 kaleness [0.11827443]\n",
      "doc_id 25 kaleness [0.63992102]\n",
      "doc_id 26 kaleness [0.14335329]\n",
      "doc_id 27 kaleness [0.94466892]\n",
      "doc_id 28 kaleness [0.52184832]\n",
      "doc_id 29 kaleness [0.41466194]\n",
      "User responses to documents in the slate\n",
      "{'click': 0, 'engagement': array(0.)}\n",
      "{'click': 1, 'engagement': array(6.76540017)}\n",
      "{'click': 0, 'engagement': array(0.)}\n",
      "Noisy user state observation\n",
      "[0.62844271]\n"
     ]
    }
   ],
   "source": [
    "observation_0 = lts_gym_env.reset()\n",
    "print('Observation 0')\n",
    "print('Available documents')\n",
    "doc_strings = ['doc_id ' + key + \" kaleness \" + str(value) for key, value\n",
    "               in observation_0['doc'].items()]\n",
    "print('\\n'.join(doc_strings))\n",
    "print('Noisy user state observation')\n",
    "print(observation_0['user'])\n",
    "# Agent recommends the first three documents.\n",
    "recommendation_slate_0 = [0, 1, 2]\n",
    "observation_1, reward, done, _ = lts_gym_env.step(recommendation_slate_0)\n",
    "print('Observation 1')\n",
    "print('Available documents')\n",
    "doc_strings = ['doc_id ' + key + \" kaleness \" + str(value) for key, value\n",
    "               in observation_1['doc'].items()]\n",
    "print('\\n'.join(doc_strings))\n",
    "rsp_strings = [str(response) for response in observation_1['response']]\n",
    "print('User responses to documents in the slate')\n",
    "print('\\n'.join(rsp_strings))\n",
    "print('Noisy user state observation')\n",
    "print(observation_1['user'])"
   ]
  }
 ],
 "metadata": {
  "kernelspec": {
   "display_name": "recsim-env",
   "language": "python",
   "name": "python3"
  },
  "language_info": {
   "codemirror_mode": {
    "name": "ipython",
    "version": 3
   },
   "file_extension": ".py",
   "mimetype": "text/x-python",
   "name": "python",
   "nbconvert_exporter": "python",
   "pygments_lexer": "ipython3",
   "version": "3.8.10"
  }
 },
 "nbformat": 4,
 "nbformat_minor": 2
}
